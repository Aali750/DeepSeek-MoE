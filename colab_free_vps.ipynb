{
  "nbformat": 4,
  "nbformat_minor": 0,
  "metadata": {
    "colab": {
      "name": "colab-free-vps.ipynb",
      "provenance": [],
      "include_colab_link": true
    },
    "kernelspec": {
      "name": "python3",
      "display_name": "Python 3"
    },
    "language_info": {
      "name": "python"
    }
  },
  "cells": [
    {
      "cell_type": "markdown",
      "metadata": {
        "id": "view-in-github",
        "colab_type": "text"
      },
      "source": [
        "<a href=\"https://colab.research.google.com/github/Aali750/DeepSeek-MoE/blob/main/colab_free_vps.ipynb\" target=\"_parent\"><img src=\"https://colab.research.google.com/assets/colab-badge.svg\" alt=\"Open In Colab\"/></a>"
      ]
    },
    {
      "cell_type": "code",
      "metadata": {
        "id": "uC-OXOiq8koc"
      },
      "source": [
        "#Mounting google drive for storing the files\n",
        "from google.colab import drive\n",
        "drive.mount(\"/content/drive\")\n",
        "\n",
        "#Installing the module\n",
        "!pip install colab_ssh\n",
        "\n",
        "# copy and paste your ngrok token here\n",
        "NGROK_TOKEN = 'xxxxxxxxxxxxxxxxxxxxx'\n",
        "\n",
        "from colab_ssh import launch_ssh\n",
        "launch_ssh(NGROK_TOKEN, 'YOUR PASSWORD HERE')"
      ],
      "execution_count": null,
      "outputs": []
    },
    {
      "cell_type": "markdown",
      "metadata": {
        "id": "D7cysyMN-A-q"
      },
      "source": [
        "Procedures:\n",
        "===========\n",
        "\n",
        "1. Go to ngrok dashboard and copy the ngrok token and replace it above (NGROK_TOKEN)\n",
        "2. Run the above shell and it will generate an link , click on it and select your google account and authorize and it will create an token copy and paste here\n",
        "3. Then press Enter and ngrok will generate an url and port number\n",
        "    \n",
        "    For Example,\n",
        "\n",
        "    x.tcp.ngrok.io - [x may be some number]\n",
        "    \n",
        "    port - some random port number\n",
        "\n",
        "4. Then connect to the free vps by\n",
        "\n",
        "    ssh root@[1-8].tcp.ngrok.io -p (port)"
      ]
    },
    {
      "cell_type": "code",
      "source": [],
      "metadata": {
        "id": "0X6MHQmk1Fb1"
      },
      "execution_count": null,
      "outputs": []
    }
  ]
}